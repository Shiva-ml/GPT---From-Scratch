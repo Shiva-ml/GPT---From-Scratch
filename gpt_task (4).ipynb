{
  "cells": [
    {
      "cell_type": "markdown",
      "metadata": {
        "id": "8HxnbxxcoYax"
      },
      "source": [
        "# illustration of implement task - draft - reference for discussion\n",
        "\n",
        "term names order may be slighly different from cuurent architectures which shall be explained in next round\n",
        " \n",
        "![architecture.drawio (1).svg](data:image/svg+xml;base64,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)"
      ]
    },
    {
      "cell_type": "markdown",
      "metadata": {
        "id": "uc63O_6soiqe"
      },
      "source": [
        "# import data set"
      ]
    },
    {
      "cell_type": "code",
      "execution_count": 1,
      "metadata": {
        "colab": {
          "base_uri": "https://localhost:8080/"
        },
        "id": "zbswLkVzoBZ2",
        "outputId": "3782fe83-3dac-4fdd-cdc5-2a31a718bd2a"
      },
      "outputs": [
        {
          "output_type": "stream",
          "name": "stdout",
          "text": [
            "Looking in indexes: https://pypi.org/simple, https://us-python.pkg.dev/colab-wheels/public/simple/\n",
            "Collecting wget\n",
            "  Downloading wget-3.2.zip (10 kB)\n",
            "  Preparing metadata (setup.py) ... \u001b[?25l\u001b[?25hdone\n",
            "Building wheels for collected packages: wget\n",
            "  Building wheel for wget (setup.py) ... \u001b[?25l\u001b[?25hdone\n",
            "  Created wheel for wget: filename=wget-3.2-py3-none-any.whl size=9676 sha256=6b43256978af9ca7611d61e2aa337c064b612942ab017c122ad3ac2137d8f127\n",
            "  Stored in directory: /root/.cache/pip/wheels/04/5f/3e/46cc37c5d698415694d83f607f833f83f0149e49b3af9d0f38\n",
            "Successfully built wget\n",
            "Installing collected packages: wget\n",
            "Successfully installed wget-3.2\n"
          ]
        }
      ],
      "source": [
        "!pip install wget\n",
        "import wget\n",
        "url = 'https://raw.githubusercontent.com/karpathy/char-rnn/master/data/tinyshakespeare/input.txt'\n",
        "file=wget.download(url)"
      ]
    },
    {
      "cell_type": "code",
      "execution_count": 2,
      "metadata": {
        "colab": {
          "base_uri": "https://localhost:8080/"
        },
        "id": "nwQDTfKSokZQ",
        "outputId": "535b395a-e0d5-4b4b-e14b-10b68dd086f2"
      },
      "outputs": [
        {
          "output_type": "stream",
          "name": "stdout",
          "text": [
            "corpus length: 1115394\n"
          ]
        }
      ],
      "source": [
        "with open('input.txt', 'r', encoding='utf-8') as f:\n",
        "  text = f.read() # should be simple plain text file\n",
        "\n",
        "print('corpus length:', len(text)) # length of the dataset in characters"
      ]
    },
    {
      "cell_type": "code",
      "execution_count": null,
      "metadata": {
        "colab": {
          "base_uri": "https://localhost:8080/"
        },
        "id": "lEslkMWSonwf",
        "outputId": "8baca3c6-94e5-4c73-da15-2f8eca0fbabb"
      },
      "outputs": [
        {
          "name": "stdout",
          "output_type": "stream",
          "text": [
            "First Citizen:\n",
            "Before we proceed any further, hear me speak.\n",
            "\n",
            "All:\n",
            "Speak, speak.\n",
            "\n",
            "First Citizen:\n",
            "You are all resolved rather to die than to famish?\n",
            "\n",
            "All:\n",
            "Resolved. resolved.\n",
            "\n",
            "First Citizen:\n",
            "First, you know Caius Marcius is chief enemy to the people.\n",
            "\n",
            "All:\n",
            "We know't, we know't.\n",
            "\n",
            "First Citizen:\n",
            "Let us kill him, and we'll have corn at our own price.\n",
            "Is't a verdict?\n",
            "\n",
            "All:\n",
            "No more talking on't; let it be done: away, away!\n",
            "\n",
            "Second Citizen:\n",
            "One word, good citizens.\n",
            "\n",
            "First Citizen:\n",
            "We are accounted poor\n"
          ]
        }
      ],
      "source": [
        "print(text[:500]) # print first 100 characters\n"
      ]
    },
    {
      "cell_type": "markdown",
      "metadata": {
        "id": "FVSmpbA-oukT"
      },
      "source": [
        "# methods"
      ]
    },
    {
      "cell_type": "code",
      "execution_count": 3,
      "metadata": {
        "id": "3Rus9Z0eoqBP"
      },
      "outputs": [],
      "source": [
        "import torch\n",
        "import torch.nn as nn\n",
        "from torch.nn import functional as F\n",
        "\n",
        "# hyperparameters\n",
        "\n",
        "# hyperparameters\n",
        "batch_size = 128 # how many independent sequences will we process in parallel?\n",
        "block_size = 64 # what is the maximum context length for predictions?\n",
        "max_iters = 5000\n",
        "eval_interval = 100\n",
        "learning_rate = 4.052276128181501e-03\n",
        "device = 'cuda' if torch.cuda.is_available() else 'cpu'\n",
        "eval_iters = 200\n",
        "n_embd = 256\n",
        "n_head = 16\n",
        "n_layer = 8\n",
        "dropout = 0.25\n",
        "# ------------\n",
        "torch.manual_seed(1337)\n",
        "\n",
        "\n",
        "# wget https://raw.githubusercontent.com/karpathy/char-rnn/master/data/tinyshakespeare/input.txt\n",
        "with open('input.txt', 'r', encoding='utf-8') as f:\n",
        "    text = f.read()\n",
        "\n",
        "# here are all the unique characters that occur in this text\n",
        "chars = sorted(list(set(text)))\n",
        "vocab_size = len(chars)\n",
        "# create a mapping from characters to integers\n",
        "stoi = { ch:i for i,ch in enumerate(chars) }\n",
        "itos = { i:ch for i,ch in enumerate(chars) }\n",
        "encode = lambda s: [stoi[c] for c in s] # encoder: take a string, output a list of integers\n",
        "decode = lambda l: ''.join([itos[i] for i in l]) # decoder: take a list of integers, output a string\n",
        "\n",
        "# Train and test splits\n",
        "data = torch.tensor(encode(text), dtype=torch.long)\n",
        "n = int(0.9*len(data)) # first 90% will be train, rest val\n",
        "train_data = data[:n]\n",
        "val_data = data[n:]\n",
        "\n",
        "# data loading\n",
        "def get_batch(split):\n",
        "    # generate a small batch of data of inputs x and targets y\n",
        "    data = train_data if split == 'train' else val_data\n",
        "    ix = torch.randint(len(data) - block_size, (batch_size,))\n",
        "    x = torch.stack([data[i:i+block_size] for i in ix])\n",
        "    y = torch.stack([data[i+1:i+block_size+1] for i in ix])\n",
        "    x, y = x.to(device), y.to(device)\n",
        "    return x, y\n",
        "\n",
        "@torch.no_grad()\n",
        "def estimate_loss():\n",
        "    out = {}\n",
        "    model.eval()\n",
        "    for split in ['train', 'val']:\n",
        "        losses = torch.zeros(eval_iters)\n",
        "        for k in range(eval_iters):\n",
        "            X, Y = get_batch(split)\n",
        "            logits, loss = model(X, Y)\n",
        "            losses[k] = loss.item()\n",
        "        out[split] = losses.mean()\n",
        "    model.train()\n",
        "    return out\n",
        "\n",
        "class Head(nn.Module):\n",
        "    \"\"\" one head of self-attention \"\"\"\n",
        "\n",
        "    def __init__(self, head_size):\n",
        "        super().__init__()\n",
        "        self.key = nn.Linear(n_embd, head_size, bias=False) # emulates the behaviour : what am i looking for\n",
        "        self.query = nn.Linear(n_embd, head_size, bias=False) # emulates the behaviour : what do i contain?\n",
        "        self.value = nn.Linear(n_embd, head_size, bias=False) # emulates the behaviour : the information i can communicate\n",
        "        self.register_buffer('tril', torch.tril(torch.ones(block_size, block_size))) # used when the tensor needs to be updated or to store pre computed value , but its neither a parameter or hyperparamter\n",
        "        \n",
        "        self.dropout = nn.Dropout(dropout) # regularization technique\n",
        "\n",
        "    def forward(self, x):\n",
        "        B,T,C = x.shape\n",
        "        k = self.key(x)   # (B,T,C)\n",
        "        q = self.query(x) # (B,T,C)\n",
        "        # compute attention scores (\"affinities\") . Higher the value , higher the info(relation between what am i looking for and what do i contain)\n",
        "        wei = q @ k.transpose(-2,-1) * C**-0.5 # (B, T, C) @ (B, C, T) -> (B, T, T)\n",
        "        # with out normalization , the value of variance of wei would close to C , and then aggregation would create a set of vectors with one value being very high compared to others.\n",
        "\n",
        "        wei = wei.masked_fill(self.tril[:T, :T] == 0, float('-inf')) # (B, T, T)\n",
        "        wei = F.softmax(wei, dim=-1) # (B, T, T) # smart way of averaging out the values per row\n",
        "        wei = self.dropout(wei)\n",
        "        # perform the weighted aggregation of the values\n",
        "        v = self.value(x) # (B,T,C)\n",
        "        out = wei @ v # (B, T, T) @ (B, T, C) -> (B, T, C) \n",
        "        # if affinity high ,and the info i can communicate is high , then the result is self attention i.e. given a character,tend to the right set of characters with in a block \n",
        "        return out\n",
        "\n",
        "class MultiHeadAttention(nn.Module):\n",
        "    \"\"\" multiple heads of self-attention in parallel \"\"\"\n",
        "    # if token is to represented by a embedding of size (1*30) when passed through mullti head attention having 6 heads.\n",
        "    # then each head will output (1*5) vector. then they are all concatenated to form (1*5) vector\n",
        "    # basic idea is to allow each head to learn as much info as possible, and if one head dies, it still gets info from other heads  \n",
        "    # \n",
        "    def __init__(self, num_heads, head_size):\n",
        "        super().__init__()\n",
        "        self.heads = nn.ModuleList([Head(head_size) for _ in range(num_heads)]) \n",
        "        self.proj = nn.Linear(n_embd, n_embd)\n",
        "        self.dropout = nn.Dropout(dropout)\n",
        "\n",
        "    def forward(self, x):\n",
        "        out = torch.cat([h(x) for h in self.heads], dim=-1) # output of self attention\n",
        "        out = self.dropout(self.proj(out)) # apply linear layer output of self attention\n",
        "        return out\n",
        "\n",
        "class FeedFoward(nn.Module):\n",
        "    \"\"\" refered to as position - wise feed forward networks in paper\"\"\"\n",
        "    \"\"\" a simple linear layer followed by a non-linearity \"\"\"\n",
        "   # in simple words now you just 2 layered deep neural network where the first layer is passed through relu , the next through soft max ,\n",
        "   # where the input is output of multi-headed masled attention \"\"\"\n",
        "   # the idea of \"4 times\" is just copied from paper    \n",
        "    def __init__(self, n_embd):\n",
        "        super().__init__()\n",
        "        self.net = nn.Sequential(\n",
        "            nn.Linear(n_embd, 4 * n_embd),\n",
        "            nn.ReLU(),\n",
        "            nn.Linear(4 * n_embd, n_embd), # emulating self.proj\n",
        "            nn.Dropout(dropout),\n",
        "        )\n",
        "\n",
        "    def forward(self, x):\n",
        "        return self.net(x)\n",
        "\n",
        "class Block(nn.Module):\n",
        "    \"\"\" Transformer block: communication (done using multihead attention) followed by computation (feedforward) \"\"\"\n",
        "    ### the computations perfromed by taking a vector input(representing char info+pos info) and producing a vector output (output of feedforward)\n",
        "    ### layer norm done first , then transformation\n",
        "    def __init__(self, n_embd, n_head):\n",
        "        # n_embd: embedding dimension, n_head: the number of heads we'd like\n",
        "        super().__init__()\n",
        "        head_size = n_embd // n_head\n",
        "        self.sa = MultiHeadAttention(n_head, head_size)\n",
        "        self.ffwd = FeedFoward(n_embd)\n",
        "        self.ln1 = nn.LayerNorm(n_embd) \n",
        "        self.ln2 = nn.LayerNorm(n_embd)\n",
        "\n",
        "    def forward(self, x):\n",
        "      # implementations of reisual connection (adding) - to adress isue rnn has\n",
        "            # not first layer norm done then tranformation done\n",
        "        x = x + self.sa(self.ln1(x)) # add input to output of multihead attention after passing through layernorm where residual connection happend through ext linear layer\n",
        "        x = x + self.ffwd(self.ln2(x))# add input to output of feedforward after passing through layernorm where residual connection happened through self.proj \n",
        "        return x\n",
        "\n",
        "# super simple bigram model\n",
        "class BigramLanguageModel(nn.Module):\n",
        "    \n",
        "    # brief explanation of the forward pass :\n",
        "    # 1. represent each token usng vector of size n_embed using nn.embedding\n",
        "    # 2. position of each token in a block can be represented using sorted vector of integers of block size \n",
        "    # 3. represent it in the same size of 1. .\n",
        "    # 4. add both vectors\n",
        "    # 5. pass through linear layer which converts it back to the vocab size\n",
        "    # 6. now each token encodes the information of about itself and its position \n",
        "\n",
        "    def __init__(self):\n",
        "        super().__init__()\n",
        "        # each token directly reads off the logits for the next token from a lookup table , same as linear layer, but ascess non zero elements using indices\n",
        "        self.token_embedding_table = nn.Embedding(vocab_size, n_embd)\n",
        "        self.position_embedding_table = nn.Embedding(block_size, n_embd)\n",
        "        self.blocks = nn.Sequential(*[Block(n_embd, n_head=n_head) for _ in range(n_layer)])\n",
        "        self.ln_f = nn.LayerNorm(n_embd) # final layer norm\n",
        "        self.lm_head = nn.Linear(n_embd, vocab_size)\n",
        "\n",
        "    def forward(self, idx, targets=None): # targets= None, for forward pass , first time\n",
        "        B, T = idx.shape\n",
        "\n",
        "        # idx and targets are both (B,T) tensor of integers\n",
        "        tok_emb = self.token_embedding_table(idx) # (B,T,C)\n",
        "        pos_emb = self.position_embedding_table(torch.arange(T, device=device)) # (T,C)\n",
        "        x = tok_emb + pos_emb # (B,T,C)\n",
        "        x = self.blocks(x) # (B,T,C)\n",
        "        x = self.ln_f(x) # (B,T,C)\n",
        "        logits = self.lm_head(x) # (B,T,vocab_size)\n",
        "\n",
        "        if targets is None:\n",
        "            loss = None\n",
        "        else:\n",
        "            B, T, C = logits.shape\n",
        "            logits = logits.view(B*T, C)\n",
        "            targets = targets.view(B*T)\n",
        "            loss = F.cross_entropy(logits, targets)\n",
        "\n",
        "        return logits, loss\n",
        "\n",
        "    def generate(self, idx, max_new_tokens):\n",
        "      \n",
        "        # idx is (B, T) array of indices in the current context\n",
        "        for _ in range(max_new_tokens):\n",
        "            # crop idx to the last block_size tokens to handle the situation that if idx is at last n character of doc , the tokens dont thinnk about access element out of doc . \n",
        "            idx_cond = idx[:, -block_size:]\n",
        "            # get the predictions\n",
        "            logits, loss = self(idx_cond)\n",
        "            # focus only on the last time step\n",
        "            logits = logits[:, -1, :] # becomes (B, C)\n",
        "            # apply softmax to get probabilities\n",
        "            probs = F.softmax(logits, dim=-1) # (B, C)\n",
        "            # sample from the distribution\n",
        "            idx_next = torch.multinomial(probs, num_samples=1) # (B, 1)\n",
        "            # append sampled index to the running sequence\n",
        "            idx = torch.cat((idx, idx_next), dim=1) # (B, T+1)\n",
        "        return idx\n",
        "\n",
        "model = BigramLanguageModel()\n",
        "m = model.to(device)\n",
        "\n"
      ]
    },
    {
      "cell_type": "markdown",
      "metadata": {
        "id": "Z7Rz0W2ooxPd"
      },
      "source": [
        "# training"
      ]
    },
    {
      "cell_type": "code",
      "execution_count": null,
      "metadata": {
        "colab": {
          "base_uri": "https://localhost:8080/"
        },
        "id": "rYkPHhGdow1W",
        "outputId": "2026cd5d-e3dc-420c-d275-a3086ef392ac"
      },
      "outputs": [
        {
          "output_type": "stream",
          "name": "stdout",
          "text": [
            "6.362177 M parameters\n",
            "step 0: train loss 2.0569, val loss 2.1248\n",
            "step 100: train loss 1.9146, val loss 2.0324\n",
            "step 200: train loss 1.7860, val loss 1.9465\n",
            "step 300: train loss 1.6894, val loss 1.8647\n",
            "step 400: train loss 1.6192, val loss 1.7903\n",
            "step 500: train loss 1.5635, val loss 1.7430\n",
            "step 600: train loss 1.5198, val loss 1.7166\n",
            "step 700: train loss 1.4784, val loss 1.6859\n",
            "step 800: train loss 1.4538, val loss 1.6608\n",
            "step 900: train loss 1.4313, val loss 1.6284\n",
            "step 1000: train loss 1.4091, val loss 1.6252\n",
            "step 1100: train loss 1.3930, val loss 1.6147\n",
            "step 1200: train loss 1.3746, val loss 1.5874\n",
            "step 1300: train loss 1.3603, val loss 1.5846\n",
            "step 1400: train loss 1.3462, val loss 1.5755\n",
            "step 1500: train loss 1.3335, val loss 1.5695\n",
            "step 1600: train loss 1.3301, val loss 1.5570\n",
            "step 1700: train loss 1.3193, val loss 1.5580\n",
            "step 1800: train loss 1.3167, val loss 1.5566\n",
            "step 1900: train loss 1.3026, val loss 1.5427\n",
            "step 2000: train loss 1.2960, val loss 1.5325\n",
            "step 2100: train loss 1.2898, val loss 1.5429\n"
          ]
        }
      ],
      "source": [
        "# print the number of parameters in the model\n",
        "print(sum(p.numel() for p in m.parameters())/1e6, 'M parameters')\n",
        "\n",
        "# create a PyTorch optimizer\n",
        "optimizer = torch.optim.Adam(model.parameters(), lr=learning_rate)\n",
        "\n",
        "for iter in range(max_iters):\n",
        "\n",
        "    # every once in a while evaluate the loss on train and val sets\n",
        "    if iter % eval_interval == 0 or iter == max_iters - 1:\n",
        "        losses = estimate_loss()\n",
        "        print(f\"step {iter}: train loss {losses['train']:.4f}, val loss {losses['val']:.4f}\")\n",
        "\n",
        "    # sample a batch of data\n",
        "    xb, yb = get_batch('train')\n",
        "\n",
        "    # evaluate the loss\n",
        "    logits, loss = model(xb, yb)\n",
        "    optimizer.zero_grad(set_to_none=True)\n",
        "    loss.backward()\n",
        "    optimizer.step()\n",
        "\n",
        "# generate from the model\n",
        "context = torch.zeros((1, 1), dtype=torch.long, device=device)\n",
        "print(decode(m.generate(context, max_new_tokens=2000)[0].tolist()))"
      ]
    },
    {
      "cell_type": "markdown",
      "metadata": {
        "id": "ucHPz6rwo1Be"
      },
      "source": [
        "# tuning"
      ]
    },
    {
      "cell_type": "code",
      "execution_count": null,
      "metadata": {
        "colab": {
          "base_uri": "https://localhost:8080/"
        },
        "id": "rLsTPQFUo2EF",
        "outputId": "02982603-1d66-449c-ef3c-82924f7859be"
      },
      "outputs": [
        {
          "name": "stdout",
          "output_type": "stream",
          "text": [
            "Looking in indexes: https://pypi.org/simple, https://us-python.pkg.dev/colab-wheels/public/simple/\n",
            "Collecting optuna\n",
            "  Downloading optuna-3.1.0-py3-none-any.whl (365 kB)\n",
            "\u001b[2K     \u001b[90m━━━━━━━━━━━━━━━━━━━━━━━━━━━━━━━━━━━━━━━\u001b[0m \u001b[32m365.3/365.3 KB\u001b[0m \u001b[31m8.4 MB/s\u001b[0m eta \u001b[36m0:00:00\u001b[0m\n",
            "\u001b[?25hRequirement already satisfied: PyYAML in /usr/local/lib/python3.9/dist-packages (from optuna) (6.0)\n",
            "Collecting alembic>=1.5.0\n",
            "  Downloading alembic-1.10.3-py3-none-any.whl (212 kB)\n",
            "\u001b[2K     \u001b[90m━━━━━━━━━━━━━━━━━━━━━━━━━━━━━━━━━━━━━━\u001b[0m \u001b[32m212.3/212.3 KB\u001b[0m \u001b[31m23.0 MB/s\u001b[0m eta \u001b[36m0:00:00\u001b[0m\n",
            "\u001b[?25hRequirement already satisfied: sqlalchemy>=1.3.0 in /usr/local/lib/python3.9/dist-packages (from optuna) (1.4.47)\n",
            "Collecting colorlog\n",
            "  Downloading colorlog-6.7.0-py2.py3-none-any.whl (11 kB)\n",
            "Requirement already satisfied: tqdm in /usr/local/lib/python3.9/dist-packages (from optuna) (4.65.0)\n",
            "Collecting cmaes>=0.9.1\n",
            "  Downloading cmaes-0.9.1-py3-none-any.whl (21 kB)\n",
            "Requirement already satisfied: packaging>=20.0 in /usr/local/lib/python3.9/dist-packages (from optuna) (23.0)\n",
            "Requirement already satisfied: numpy in /usr/local/lib/python3.9/dist-packages (from optuna) (1.22.4)\n",
            "Requirement already satisfied: typing-extensions>=4 in /usr/local/lib/python3.9/dist-packages (from alembic>=1.5.0->optuna) (4.5.0)\n",
            "Collecting Mako\n",
            "  Downloading Mako-1.2.4-py3-none-any.whl (78 kB)\n",
            "\u001b[2K     \u001b[90m━━━━━━━━━━━━━━━━━━━━━━━━━━━━━━━━━━━━━━━━\u001b[0m \u001b[32m78.7/78.7 KB\u001b[0m \u001b[31m9.7 MB/s\u001b[0m eta \u001b[36m0:00:00\u001b[0m\n",
            "\u001b[?25hRequirement already satisfied: greenlet!=0.4.17 in /usr/local/lib/python3.9/dist-packages (from sqlalchemy>=1.3.0->optuna) (2.0.2)\n",
            "Requirement already satisfied: MarkupSafe>=0.9.2 in /usr/local/lib/python3.9/dist-packages (from Mako->alembic>=1.5.0->optuna) (2.1.2)\n",
            "Installing collected packages: Mako, colorlog, cmaes, alembic, optuna\n",
            "Successfully installed Mako-1.2.4 alembic-1.10.3 cmaes-0.9.1 colorlog-6.7.0 optuna-3.1.0\n"
          ]
        }
      ],
      "source": [
        "!pip install optuna\n",
        "import optuna"
      ]
    },
    {
      "cell_type": "code",
      "execution_count": null,
      "metadata": {
        "id": "wCwuwKrUrQD8"
      },
      "outputs": [],
      "source": [
        "max_iters = 2000\n"
      ]
    },
    {
      "cell_type": "code",
      "execution_count": null,
      "metadata": {
        "colab": {
          "base_uri": "https://localhost:8080/"
        },
        "id": "OyvqZIsRo4cV",
        "outputId": "c1b73c3c-b871-49e2-e206-f5c01f088a33"
      },
      "outputs": [
        {
          "name": "stderr",
          "output_type": "stream",
          "text": [
            "\u001b[32m[I 2023-04-07 03:54:52,505]\u001b[0m A new study created in memory with name: no-name-5a60d868-dec0-4d66-ac40-956f4ff4f193\u001b[0m\n",
            "\u001b[32m[I 2023-04-07 03:59:49,787]\u001b[0m Trial 0 finished with value: 1.7463330030441284 and parameters: {'batch_size': 256, 'block_size': 512, 'learning_rate': 1.538034490090522e-05, 'n_embd': 500, 'n_head': 16, 'n_layer': 6, 'dropout': 0.009603068747981836, 'flcr': 3}. Best is trial 0 with value: 1.7463330030441284.\u001b[0m\n",
            "\u001b[32m[I 2023-04-07 04:04:46,880]\u001b[0m Trial 1 finished with value: 1.6952303647994995 and parameters: {'batch_size': 256, 'block_size': 512, 'learning_rate': 2.2955783196330685e-05, 'n_embd': 200, 'n_head': 8, 'n_layer': 4, 'dropout': 0.09690449517594718, 'flcr': 4}. Best is trial 1 with value: 1.6952303647994995.\u001b[0m\n",
            "\u001b[32m[I 2023-04-07 04:09:44,161]\u001b[0m Trial 2 finished with value: 1.6470855474472046 and parameters: {'batch_size': 128, 'block_size': 64, 'learning_rate': 2.950342581562844e-05, 'n_embd': 200, 'n_head': 16, 'n_layer': 7, 'dropout': 0.009943376026114937, 'flcr': 7}. Best is trial 2 with value: 1.6470855474472046.\u001b[0m\n",
            "\u001b[32m[I 2023-04-07 04:14:41,594]\u001b[0m Trial 3 finished with value: 1.6290887594223022 and parameters: {'batch_size': 256, 'block_size': 512, 'learning_rate': 1.3591072870614347e-05, 'n_embd': 200, 'n_head': 8, 'n_layer': 7, 'dropout': 0.04078736702724255, 'flcr': 3}. Best is trial 3 with value: 1.6290887594223022.\u001b[0m\n",
            "\u001b[32m[I 2023-04-07 04:19:38,824]\u001b[0m Trial 4 finished with value: 1.6173310279846191 and parameters: {'batch_size': 256, 'block_size': 256, 'learning_rate': 1.2647305718522857e-05, 'n_embd': 200, 'n_head': 32, 'n_layer': 5, 'dropout': 0.09182126713167102, 'flcr': 7}. Best is trial 4 with value: 1.6173310279846191.\u001b[0m\n",
            "\u001b[32m[I 2023-04-07 04:24:35,876]\u001b[0m Trial 5 finished with value: 1.574289083480835 and parameters: {'batch_size': 64, 'block_size': 512, 'learning_rate': 6.645198268786095e-05, 'n_embd': 500, 'n_head': 32, 'n_layer': 6, 'dropout': 0.05833908370076151, 'flcr': 6}. Best is trial 5 with value: 1.574289083480835.\u001b[0m\n",
            "\u001b[32m[I 2023-04-07 04:29:33,267]\u001b[0m Trial 6 finished with value: 1.554696798324585 and parameters: {'batch_size': 64, 'block_size': 64, 'learning_rate': 1.9017233725190715e-05, 'n_embd': 400, 'n_head': 8, 'n_layer': 5, 'dropout': 0.017870335342241184, 'flcr': 6}. Best is trial 6 with value: 1.554696798324585.\u001b[0m\n",
            "\u001b[32m[I 2023-04-07 04:34:30,655]\u001b[0m Trial 7 finished with value: 1.5323694944381714 and parameters: {'batch_size': 128, 'block_size': 128, 'learning_rate': 5.382455954000062e-05, 'n_embd': 450, 'n_head': 32, 'n_layer': 4, 'dropout': 0.006546184257628407, 'flcr': 5}. Best is trial 7 with value: 1.5323694944381714.\u001b[0m\n",
            "\u001b[32m[I 2023-04-07 04:39:27,893]\u001b[0m Trial 8 finished with value: 1.523919939994812 and parameters: {'batch_size': 64, 'block_size': 256, 'learning_rate': 2.421159333648338e-05, 'n_embd': 500, 'n_head': 32, 'n_layer': 6, 'dropout': 0.02463438706141824, 'flcr': 8}. Best is trial 8 with value: 1.523919939994812.\u001b[0m\n",
            "\u001b[32m[I 2023-04-07 04:44:24,979]\u001b[0m Trial 9 finished with value: 1.5098562240600586 and parameters: {'batch_size': 128, 'block_size': 64, 'learning_rate': 4.583715872295565e-05, 'n_embd': 500, 'n_head': 16, 'n_layer': 6, 'dropout': 0.05977007422219689, 'flcr': 4}. Best is trial 9 with value: 1.5098562240600586.\u001b[0m\n",
            "\u001b[32m[I 2023-04-07 04:49:22,372]\u001b[0m Trial 10 finished with value: 1.5006492137908936 and parameters: {'batch_size': 128, 'block_size': 64, 'learning_rate': 4.571835095796665e-05, 'n_embd': 250, 'n_head': 16, 'n_layer': 8, 'dropout': 0.06790563475500247, 'flcr': 4}. Best is trial 10 with value: 1.5006492137908936.\u001b[0m\n",
            "\u001b[32m[I 2023-04-07 04:54:19,763]\u001b[0m Trial 11 finished with value: 1.493715763092041 and parameters: {'batch_size': 128, 'block_size': 64, 'learning_rate': 4.115328440048058e-05, 'n_embd': 250, 'n_head': 16, 'n_layer': 8, 'dropout': 0.06510105533225044, 'flcr': 4}. Best is trial 11 with value: 1.493715763092041.\u001b[0m\n",
            "\u001b[32m[I 2023-04-07 04:59:17,020]\u001b[0m Trial 12 finished with value: 1.4907920360565186 and parameters: {'batch_size': 128, 'block_size': 64, 'learning_rate': 4.052276128181501e-05, 'n_embd': 250, 'n_head': 16, 'n_layer': 8, 'dropout': 0.0769491369831065, 'flcr': 4}. Best is trial 12 with value: 1.4907920360565186.\u001b[0m\n",
            "\u001b[32m[I 2023-04-07 05:04:14,465]\u001b[0m Trial 13 finished with value: 1.4956488609313965 and parameters: {'batch_size': 128, 'block_size': 64, 'learning_rate': 9.476710233477895e-05, 'n_embd': 250, 'n_head': 16, 'n_layer': 8, 'dropout': 0.07619639907065368, 'flcr': 5}. Best is trial 12 with value: 1.4907920360565186.\u001b[0m\n",
            "\u001b[32m[I 2023-04-07 05:09:11,870]\u001b[0m Trial 14 finished with value: 1.4903554916381836 and parameters: {'batch_size': 128, 'block_size': 128, 'learning_rate': 3.5381318961517773e-05, 'n_embd': 250, 'n_head': 16, 'n_layer': 8, 'dropout': 0.0797896671079949, 'flcr': 4}. Best is trial 14 with value: 1.4903554916381836.\u001b[0m\n",
            "\u001b[32m[I 2023-04-07 05:14:09,612]\u001b[0m Trial 15 finished with value: 1.4937704801559448 and parameters: {'batch_size': 128, 'block_size': 128, 'learning_rate': 3.115322591436258e-05, 'n_embd': 125, 'n_head': 16, 'n_layer': 7, 'dropout': 0.0831160870925614, 'flcr': 3}. Best is trial 14 with value: 1.4903554916381836.\u001b[0m\n",
            "\u001b[32m[I 2023-04-07 05:19:07,058]\u001b[0m Trial 16 finished with value: 1.494175672531128 and parameters: {'batch_size': 128, 'block_size': 128, 'learning_rate': 3.435683530742177e-05, 'n_embd': 300, 'n_head': 16, 'n_layer': 8, 'dropout': 0.08134821013441881, 'flcr': 5}. Best is trial 14 with value: 1.4903554916381836.\u001b[0m\n",
            "\u001b[32m[I 2023-04-07 05:24:04,824]\u001b[0m Trial 17 finished with value: 1.4975001811981201 and parameters: {'batch_size': 128, 'block_size': 128, 'learning_rate': 3.562073211805296e-05, 'n_embd': 350, 'n_head': 16, 'n_layer': 7, 'dropout': 0.09887429909564105, 'flcr': 4}. Best is trial 14 with value: 1.4903554916381836.\u001b[0m\n",
            "\u001b[32m[I 2023-04-07 05:29:02,429]\u001b[0m Trial 18 finished with value: 1.505092740058899 and parameters: {'batch_size': 128, 'block_size': 128, 'learning_rate': 5.725065842683031e-05, 'n_embd': 250, 'n_head': 16, 'n_layer': 8, 'dropout': 0.04585810288543515, 'flcr': 3}. Best is trial 14 with value: 1.4903554916381836.\u001b[0m\n",
            "\u001b[32m[I 2023-04-07 05:33:59,940]\u001b[0m Trial 19 finished with value: 1.4964863061904907 and parameters: {'batch_size': 64, 'block_size': 256, 'learning_rate': 1.0624771653190402e-05, 'n_embd': 250, 'n_head': 8, 'n_layer': 7, 'dropout': 0.07299611148455613, 'flcr': 5}. Best is trial 14 with value: 1.4903554916381836.\u001b[0m\n",
            "\u001b[32m[I 2023-04-07 05:38:57,521]\u001b[0m Trial 20 finished with value: 1.5012855529785156 and parameters: {'batch_size': 128, 'block_size': 128, 'learning_rate': 2.495349974297521e-05, 'n_embd': 300, 'n_head': 16, 'n_layer': 8, 'dropout': 0.08597959969097013, 'flcr': 6}. Best is trial 14 with value: 1.4903554916381836.\u001b[0m\n",
            "\u001b[32m[I 2023-04-07 05:43:54,996]\u001b[0m Trial 21 finished with value: 1.5140204429626465 and parameters: {'batch_size': 128, 'block_size': 64, 'learning_rate': 4.030997622315811e-05, 'n_embd': 250, 'n_head': 16, 'n_layer': 8, 'dropout': 0.06740916229654698, 'flcr': 4}. Best is trial 14 with value: 1.4903554916381836.\u001b[0m\n",
            "\u001b[32m[I 2023-04-07 05:48:52,424]\u001b[0m Trial 22 finished with value: 1.514764666557312 and parameters: {'batch_size': 128, 'block_size': 64, 'learning_rate': 3.942250003365617e-05, 'n_embd': 250, 'n_head': 16, 'n_layer': 8, 'dropout': 0.07533573431769743, 'flcr': 4}. Best is trial 14 with value: 1.4903554916381836.\u001b[0m\n",
            "\u001b[32m[I 2023-04-07 05:53:49,667]\u001b[0m Trial 23 finished with value: 1.5190643072128296 and parameters: {'batch_size': 128, 'block_size': 64, 'learning_rate': 3.056308744714758e-05, 'n_embd': 250, 'n_head': 16, 'n_layer': 7, 'dropout': 0.08853869748387574, 'flcr': 3}. Best is trial 14 with value: 1.4903554916381836.\u001b[0m\n",
            "\u001b[32m[I 2023-04-07 05:58:47,055]\u001b[0m Trial 24 finished with value: 1.527895212173462 and parameters: {'batch_size': 128, 'block_size': 64, 'learning_rate': 4.087156052233697e-05, 'n_embd': 350, 'n_head': 16, 'n_layer': 8, 'dropout': 0.05972365749094391, 'flcr': 5}. Best is trial 14 with value: 1.4903554916381836.\u001b[0m\n",
            "\u001b[32m[I 2023-04-07 06:03:44,214]\u001b[0m Trial 25 finished with value: 1.5293270349502563 and parameters: {'batch_size': 128, 'block_size': 64, 'learning_rate': 2.7196527405420462e-05, 'n_embd': 450, 'n_head': 16, 'n_layer': 7, 'dropout': 0.08010736375127106, 'flcr': 4}. Best is trial 14 with value: 1.4903554916381836.\u001b[0m\n",
            "\u001b[32m[I 2023-04-07 06:08:41,409]\u001b[0m Trial 26 finished with value: 1.541597843170166 and parameters: {'batch_size': 128, 'block_size': 128, 'learning_rate': 3.348879951393529e-05, 'n_embd': 400, 'n_head': 16, 'n_layer': 8, 'dropout': 0.06950380013244055, 'flcr': 4}. Best is trial 14 with value: 1.4903554916381836.\u001b[0m\n",
            "\u001b[32m[I 2023-04-07 06:13:38,661]\u001b[0m Trial 27 finished with value: 1.5480941534042358 and parameters: {'batch_size': 128, 'block_size': 256, 'learning_rate': 2.1456797379340476e-05, 'n_embd': 250, 'n_head': 16, 'n_layer': 8, 'dropout': 0.0905195643465863, 'flcr': 5}. Best is trial 14 with value: 1.4903554916381836.\u001b[0m\n",
            "\u001b[32m[I 2023-04-07 06:18:36,172]\u001b[0m Trial 28 finished with value: 1.5566787719726562 and parameters: {'batch_size': 64, 'block_size': 64, 'learning_rate': 4.889975154676934e-05, 'n_embd': 125, 'n_head': 32, 'n_layer': 7, 'dropout': 0.06437938000801842, 'flcr': 3}. Best is trial 14 with value: 1.4903554916381836.\u001b[0m\n",
            "\u001b[32m[I 2023-04-07 06:23:33,600]\u001b[0m Trial 29 finished with value: 1.5626221895217896 and parameters: {'batch_size': 256, 'block_size': 512, 'learning_rate': 1.791899591961355e-05, 'n_embd': 250, 'n_head': 8, 'n_layer': 8, 'dropout': 0.054350731093534124, 'flcr': 3}. Best is trial 14 with value: 1.4903554916381836.\u001b[0m\n"
          ]
        }
      ],
      "source": [
        "import optuna\n",
        "import torch\n",
        "import torch.nn as nn\n",
        "from torch.nn import functional as F\n",
        "\n",
        "\n",
        "def objective(trial):\n",
        "\n",
        "    # suggest values for hyperparameters to optimize\n",
        "    batch_size = trial.suggest_categorical('batch_size', [64, 128,256]) # 2 power idea\n",
        "    block_size = trial.suggest_categorical('block_size', [64,128,256,512]) # 2 power idea\n",
        "    learning_rate = trial.suggest_float('learning_rate', 1e-5, 1e-4, log=True) # dint exceed 1e-3 , because of self attention behaviour\n",
        "    n_embd = trial.suggest_categorical('n_embd', [125,200,250,300,350,400,450,500]) # 2 power idea\n",
        "    n_head = trial.suggest_categorical('n_head', [8,16,32])\n",
        "    n_layer = trial.suggest_int('n_layer', 4, 8)\n",
        "    dropout = trial.suggest_float('dropout', 0.0, 0.1)\n",
        "    flcr=trial.suggest_int('flcr', 3, 8)\n",
        "    \n",
        "    # define optimizer and loss function\n",
        "    optimizer = torch.optim.Adam(model.parameters(), lr=learning_rate) # used adam optimizer\n",
        "    loss_fn = nn.CrossEntropyLoss()\n",
        "\n",
        "    # train the model for a few iterations and estimate the validation loss\n",
        "    for i in range(max_iters):\n",
        "        # get a batch of data and compute the forward pass\n",
        "        X, Y = get_batch('train')\n",
        "        logits, loss = model(X, Y)\n",
        "        \n",
        "        # compute gradients and update parameters\n",
        "        optimizer.zero_grad()\n",
        "        loss.backward()\n",
        "        optimizer.step()\n",
        "\n",
        "        # evaluate the model on validation data and estimate the loss\n",
        "        if i % eval_interval == 0:\n",
        "            losses = estimate_loss()\n",
        "            val_loss = losses['val']\n",
        "\n",
        "            # report intermediate results to optuna\n",
        "            trial.report(val_loss, i)\n",
        "\n",
        "            # early stopping based on validation loss\n",
        "            if i > eval_interval and val_loss > max(losses['val'] for i in range(i-eval_interval, i)):\n",
        "                break\n",
        "\n",
        "    # return the validation loss as the objective value to minimize\n",
        "    return val_loss\n",
        "\n",
        "# create a study object and run the optimization\n",
        "study = optuna.create_study(direction='minimize')\n",
        "study.optimize(objective, n_trials=30)\n"
      ]
    },
    {
      "cell_type": "code",
      "execution_count": null,
      "metadata": {
        "colab": {
          "base_uri": "https://localhost:8080/"
        },
        "id": "sQQe0qeFo6HN",
        "outputId": "e272cd4b-2eaf-4b85-f519-c14ab8cde44f"
      },
      "outputs": [
        {
          "name": "stdout",
          "output_type": "stream",
          "text": [
            "Optimal hyperparameters:\n",
            "Batch size: 128\n",
            "Block size: 128\n",
            "Learning rate: 3.5381318961517773e-05\n",
            "n_embd: 250\n",
            "n_head: 16\n",
            "n_layer: 8\n",
            "dropout: 0.0797896671079949\n"
          ]
        }
      ],
      "source": [
        "print(\"Optimal hyperparameters:\")\n",
        "print(f\"Batch size: {study.best_params['batch_size']}\")\n",
        "print(f\"Block size: {study.best_params['block_size']}\")\n",
        "print(f\"Learning rate: {study.best_params['learning_rate']}\")\n",
        "print(f\"n_embd: {study.best_params['n_embd']}\")\n",
        "print(f\"n_head: {study.best_params['n_head']}\")\n",
        "print(f\"n_layer: {study.best_params['n_layer']}\")\n",
        "print(f\"dropout: {study.best_params['dropout']}\")\n",
        "#print(f\"optimizer: {study.best_params['optimizer']}\")"
      ]
    },
    {
      "cell_type": "code",
      "execution_count": null,
      "metadata": {
        "id": "KItb8b3KETjz"
      },
      "outputs": [],
      "source": [
        "# Save the trained model's weights to a file\n",
        "torch.save(model.state_dict(), \"model_weights.pth\")"
      ]
    },
    {
      "cell_type": "code",
      "execution_count": null,
      "metadata": {
        "id": "sVOD_xVNEVWE"
      },
      "outputs": [],
      "source": [
        "import json\n",
        "\n",
        "# Define hyperparameters as a dictionary\n",
        "hyperparameters = {\n",
        "   \"batch_size\": study.best_params['batch_size'],\n",
        "    \"block_size\": study.best_params['block_size'],\n",
        "    \"learning_rate\": study.best_params['learning_rate'],\n",
        "    \"n_embd\": study.best_params['n_embd'],\n",
        "    \"n_head\": study.best_params['n_head'],\n",
        "    \"n_layer\": study.best_params['n_layer'],\n",
        "    \"dropout\": study.best_params['dropout']\n",
        "}\n",
        "\n",
        "# Write hyperparameters to a JSON file\n",
        "with open(\"hyperparameters.json\", \"w\") as f:\n",
        "    json.dump(hyperparameters, f)"
      ]
    },
    {
      "cell_type": "markdown",
      "metadata": {
        "id": "qcTpavFsLTzz"
      },
      "source": [
        "# to run on saved data"
      ]
    },
    {
      "cell_type": "code",
      "execution_count": null,
      "metadata": {
        "colab": {
          "base_uri": "https://localhost:8080/",
          "height": 1000
        },
        "id": "XdtFhg-sEXtU",
        "outputId": "e5665f93-bc1f-45cd-a72c-9f009e7a43d0"
      },
      "outputs": [
        {
          "ename": "RuntimeError",
          "evalue": "ignored",
          "output_type": "error",
          "traceback": [
            "\u001b[0;31m---------------------------------------------------------------------------\u001b[0m",
            "\u001b[0;31mRuntimeError\u001b[0m                              Traceback (most recent call last)",
            "\u001b[0;32m<ipython-input-20-3e7d91573fc5>\u001b[0m in \u001b[0;36m<cell line: 28>\u001b[0;34m()\u001b[0m\n\u001b[1;32m     26\u001b[0m \u001b[0;34m\u001b[0m\u001b[0m\n\u001b[1;32m     27\u001b[0m \u001b[0;31m# Load the model weights from the PyTorch file\u001b[0m\u001b[0;34m\u001b[0m\u001b[0;34m\u001b[0m\u001b[0m\n\u001b[0;32m---> 28\u001b[0;31m \u001b[0mmodel2\u001b[0m\u001b[0;34m.\u001b[0m\u001b[0mload_state_dict\u001b[0m\u001b[0;34m(\u001b[0m\u001b[0mtorch\u001b[0m\u001b[0;34m.\u001b[0m\u001b[0mload\u001b[0m\u001b[0;34m(\u001b[0m\u001b[0;34m\"model_weights.pth\"\u001b[0m\u001b[0;34m)\u001b[0m\u001b[0;34m)\u001b[0m\u001b[0;34m\u001b[0m\u001b[0;34m\u001b[0m\u001b[0m\n\u001b[0m\u001b[1;32m     29\u001b[0m \u001b[0;34m\u001b[0m\u001b[0m\n\u001b[1;32m     30\u001b[0m \u001b[0;31m# Set the model to evaluation mode\u001b[0m\u001b[0;34m\u001b[0m\u001b[0;34m\u001b[0m\u001b[0m\n",
            "\u001b[0;32m/usr/local/lib/python3.9/dist-packages/torch/nn/modules/module.py\u001b[0m in \u001b[0;36mload_state_dict\u001b[0;34m(self, state_dict, strict)\u001b[0m\n\u001b[1;32m   2039\u001b[0m \u001b[0;34m\u001b[0m\u001b[0m\n\u001b[1;32m   2040\u001b[0m         \u001b[0;32mif\u001b[0m \u001b[0mlen\u001b[0m\u001b[0;34m(\u001b[0m\u001b[0merror_msgs\u001b[0m\u001b[0;34m)\u001b[0m \u001b[0;34m>\u001b[0m \u001b[0;36m0\u001b[0m\u001b[0;34m:\u001b[0m\u001b[0;34m\u001b[0m\u001b[0;34m\u001b[0m\u001b[0m\n\u001b[0;32m-> 2041\u001b[0;31m             raise RuntimeError('Error(s) in loading state_dict for {}:\\n\\t{}'.format(\n\u001b[0m\u001b[1;32m   2042\u001b[0m                                self.__class__.__name__, \"\\n\\t\".join(error_msgs)))\n\u001b[1;32m   2043\u001b[0m         \u001b[0;32mreturn\u001b[0m \u001b[0m_IncompatibleKeys\u001b[0m\u001b[0;34m(\u001b[0m\u001b[0mmissing_keys\u001b[0m\u001b[0;34m,\u001b[0m \u001b[0munexpected_keys\u001b[0m\u001b[0;34m)\u001b[0m\u001b[0;34m\u001b[0m\u001b[0;34m\u001b[0m\u001b[0m\n",
            "\u001b[0;31mRuntimeError\u001b[0m: Error(s) in loading state_dict for BigramLanguageModel:\n\tsize mismatch for token_embedding_table.weight: copying a param with shape torch.Size([65, 384]) from checkpoint, the shape in current model is torch.Size([65, 64]).\n\tsize mismatch for position_embedding_table.weight: copying a param with shape torch.Size([256, 384]) from checkpoint, the shape in current model is torch.Size([256, 64]).\n\tsize mismatch for blocks.0.sa.heads.0.key.weight: copying a param with shape torch.Size([96, 384]) from checkpoint, the shape in current model is torch.Size([16, 64]).\n\tsize mismatch for blocks.0.sa.heads.0.query.weight: copying a param with shape torch.Size([96, 384]) from checkpoint, the shape in current model is torch.Size([16, 64]).\n\tsize mismatch for blocks.0.sa.heads.0.value.weight: copying a param with shape torch.Size([96, 384]) from checkpoint, the shape in current model is torch.Size([16, 64]).\n\tsize mismatch for blocks.0.sa.heads.1.key.weight: copying a param with shape torch.Size([96, 384]) from checkpoint, the shape in current model is torch.Size([16, 64]).\n\tsize mismatch for blocks.0.sa.heads.1.query.weight: copying a param with shape torch.Size([96, 384]) from checkpoint, the shape in current model is torch.Size([16, 64]).\n\tsize mismatch for blocks.0.sa.heads.1.value.weight: copying a param with shape torch.Size([96, 384]) from checkpoint, the shape in current model is torch.Size([16, 64]).\n\tsize mismatch for blocks.0.sa.heads.2.key.weight: copying a param with shape torch.Size([96, 384]) from checkpoint, the shape in current model is torch.Size([16, 64]).\n\tsize mismatch for blocks.0.sa.heads.2.query.weight: copying a param with shape torch.Size([96, 384]) from checkpoint, the shape in current model is torch.Size([16, 64]).\n\tsize mismatch for blocks.0.sa.heads.2.value.weight: copying a param with shape torch.Size([96, 384]) from checkpoint, the shape in current model is torch.Size([16, 64]).\n\tsize mismatch for blocks.0.sa.heads.3.key.weight: copying a param with shape torch.Size([96, 384]) from checkpoint, the shape in current model is torch.Size([16, 64]).\n\tsize mismatch for blocks.0.sa.heads.3.query.weight: copying a param with shape torch.Size([96, 384]) from checkpoint, the shape in current model is torch.Size([16, 64]).\n\tsize mismatch for blocks.0.sa.heads.3.value.weight: copying a param with shape torch.Size([96, 384]) from checkpoint, the shape in current model is torch.Size([16, 64]).\n\tsize mismatch for blocks.0.sa.proj.weight: copying a param with shape torch.Size([384, 384]) from checkpoint, the shape in current model is torch.Size([64, 64]).\n\tsize mismatch for blocks.0.sa.proj.bias: copying a param with shape torch.Size([384]) from checkpoint, the shape in current model is torch.Size([64]).\n\tsize mismatch for blocks.0.ffwd.net.0.weight: copying a param with shape torch.Size([1152, 384]) from checkpoint, the shape in current model is torch.Size([192, 64]).\n\tsize mismatch for blocks.0.ffwd.net.0.bias: copying a param with shape torch.Size([1152]) from checkpoint, the shape in current model is torch.Size([192]).\n\tsize mismatch for blocks.0.ffwd.net.2.weight: copying a param with shape torch.Size([384, 1152]) from checkpoint, the shape in current model is torch.Size([64, 192]).\n\tsize mismatch for blocks.0.ffwd.net.2.bias: copying a param with shape torch.Size([384]) from checkpoint, the shape in current model is torch.Size([64]).\n\tsize mismatch for blocks.0.ln1.weight: copying a param with shape torch.Size([384]) from checkpoint, the shape in current model is torch.Size([64]).\n\tsize mismatch for blocks.0.ln1.bias: copying a param with shape torch.Size([384]) from checkpoint, the shape in current model is torch.Size([64]).\n\tsize mismatch for blocks.0.ln2.weight: copying a param with shape torch.Size([384]) from checkpoint, the shape in current model is torch.Size([64]).\n\tsize mismatch for blocks.0.ln2.bias: copying a param with shape torch.Size([384]) from checkpoint, the shape in current model is torch.Size([64]).\n\tsize mismatch for blocks.1.sa.heads.0.key.weight: copying a param with shape torch.Size([96, 384]) from checkpoint, the shape in current model is torch.Size([16, 64]).\n\tsize mismatch for blocks.1.sa.heads.0.query.weight: copying a param with shape torch.Size([96, 384]) from checkpoint, the shape in current model is torch.Size([16, 64]).\n\tsize mismatch for blocks.1.sa.heads.0.value.weight: copying a param with shape torch.Size([96, 384]) from checkpoint, the shape in current model is torch.Size([16, 64]).\n\tsize mismatch for blocks.1.sa.heads.1.key.weight: copying a param with shape torch.Size([96, 384]) from checkpoint, the shape in current model is torch.Size([16, 64]).\n\tsize mismatch for blocks.1.sa.heads.1.query.weight: copying a param with shape torch.Size([96, 384]) from checkpoint, the shape in current model is torch.Size([16, 64]).\n\tsize mismatch for blocks.1.sa.heads.1.value.weight: copying a param with shape torch.Size([96, 384]) from checkpoint, the shape in current model is torch.Size([16, 64]).\n\tsize mismatch for blocks.1.sa.heads.2.key.weight: copying a param with shape torch.Size([96, 384]) from checkpoint, the shape in current model is torch.Size([16, 64]).\n\tsize mismatch for blocks.1.sa.heads.2.query.weight: copying a param with shape torch.Size([96, 384]) from checkpoint, the shape in current model is torch.Size([16, 64]).\n\tsize mismatch for blocks.1.sa.heads.2.value.weight: copying a param with shape torch.Size([96, 384]) from checkpoint, the shape in current model is torch.Size([16, 64]).\n\tsize mismatch for blocks.1.sa.heads.3.key.weight: copying a param with shape torch.Size([96, 384]) from checkpoint, the shape in current model is torch.Size([16, 64]).\n\tsize mismatch for blocks.1.sa.heads.3.query.weight: copying a param with shape torch.Size([96, 384]) from checkpoint, the shape in current model is torch.Size([16, 64]).\n\tsize mismatch for blocks.1.sa.heads.3.value.weight: copying a param with shape torch.Size([96, 384]) from checkpoint, the shape in current model is torch.Size([16, 64]).\n\tsize mismatch for blocks.1.sa.proj.weight: copying a param with shape torch.Size([384, 384]) from checkpoint, the shape in current model is torch.Size([64, 64]).\n\tsize mismatch for blocks.1.sa.proj.bias: copying a param with shape torch.Size([384]) from checkpoint, the shape in current model is torch.Size([64]).\n\tsize mismatch for blocks.1.ffwd.net.0.weight: copying a param with shape torch.Size([1152, 384]) from checkpoint, the shape in current model is torch.Size([192, 64]).\n\tsize mismatch for blocks.1.ffwd.net.0.bias: copying a param with shape torch.Size([1152]) from checkpoint, the shape in current model is torch.Size([192]).\n\tsize mismatch for blocks.1.ffwd.net.2.weight: copying a param with shape torch.Size([384, 1152]) from checkpoint, the shape in current model is torch.Size([64, 192]).\n\tsize mismatch for blocks.1.ffwd.net.2.bias: copying a param with shape torch.Size([384]) from checkpoint, the shape in current model is torch.Size([64]).\n\tsize mismatch for blocks.1.ln1.weight: copying a param with shape torch.Size([384]) from checkpoint, the shape in current model is torch.Size([64]).\n\tsize mismatch for blocks.1.ln1.bias: copying a param with shape torch.Size([384]) from checkpoint, the shape in current model is torch.Size([64]).\n\tsize mismatch for blocks.1.ln2.weight: copying a param with shape torch.Size([384]) from checkpoint, the shape in current model is torch.Size([64]).\n\tsize mismatch for blocks.1.ln2.bias: copying a param with shape torch.Size([384]) from checkpoint, the shape in current model is torch.Size([64]).\n\tsize mismatch for blocks.2.sa.heads.0.key.weight: copying a param with shape torch.Size([96, 384]) from checkpoint, the shape in current model is torch.Size([16, 64]).\n\tsize mismatch for blocks.2.sa.heads.0.query.weight: copying a param with shape torch.Size([96, 384]) from checkpoint, the shape in current model is torch.Size([16, 64]).\n\tsize mismatch for blocks.2.sa.heads.0.value.weight: copying a param with shape torch.Size([96, 384]) from checkpoint, the shape in current model is torch.Size([16, 64]).\n\tsize mismatch for blocks.2.sa.heads.1.key.weight: copying a param with shape torch.Size([96, 384]) from checkpoint, the shape in current model is torch.Size([16, 64]).\n\tsize mismatch for blocks.2.sa.heads.1.query.weight: copying a param with shape torch.Size([96, 384]) from checkpoint, the shape in current model is torch.Size([16, 64]).\n\tsize mismatch for blocks.2.sa.heads.1.value.weight: copying a param with shape torch.Size([96, 384]) from checkpoint, the shape in current model is torch.Size([16, 64]).\n\tsize mismatch for blocks.2.sa.heads.2.key.weight: copying a param with shape torch.Size([96, 384]) from checkpoint, the shape in current model is torch.Size([16, 64]).\n\tsize mismatch for blocks.2.sa.heads.2.query.weight: copying a param with shape torch.Size([96, 384]) from checkpoint, the shape in current model is torch.Size([16, 64]).\n\tsize mismatch for blocks.2.sa.heads.2.value.weight: copying a param with shape torch.Size([96, 384]) from checkpoint, the shape in current model is torch.Size([16, 64]).\n\tsize mismatch for blocks.2.sa.heads.3.key.weight: copying a param with shape torch.Size([96, 384]) from checkpoint, the shape in current model is torch.Size([16, 64]).\n\tsize mismatch for blocks.2.sa.heads.3.query.weight: copying a param with shape torch.Size([96, 384]) from checkpoint, the shape in current model is torch.Size([16, 64]).\n\tsize mismatch for blocks.2.sa.heads.3.value.weight: copying a param with shape torch.Size([96, 384]) from checkpoint, the shape in current model is torch.Size([16, 64]).\n\tsize mismatch for blocks.2.sa.proj.weight: copying a param with shape torch.Size([384, 384]) from checkpoint, the shape in current model is torch.Size([64, 64]).\n\tsize mismatch for blocks.2.sa.proj.bias: copying a param with shape torch.Size([384]) from checkpoint, the shape in current model is torch.Size([64]).\n\tsize mismatch for blocks.2.ffwd.net.0.weight: copying a param with shape torch.Size([1152, 384]) from checkpoint, the shape in current model is torch.Size([192, 64]).\n\tsize mismatch for blocks.2.ffwd.net.0.bias: copying a param with shape torch.Size([1152]) from checkpoint, the shape in current model is torch.Size([192]).\n\tsize mismatch for blocks.2.ffwd.net.2.weight: copying a param with shape torch.Size([384, 1152]) from checkpoint, the shape in current model is torch.Size([64, 192]).\n\tsize mismatch for blocks.2.ffwd.net.2.bias: copying a param with shape torch.Size([384]) from checkpoint, the shape in current model is torch.Size([64]).\n\tsize mismatch for blocks.2.ln1.weight: copying a param with shape torch.Size([384]) from checkpoint, the shape in current model is torch.Size([64]).\n\tsize mismatch for blocks.2.ln1.bias: copying a param with shape torch.Size([384]) from checkpoint, the shape in current model is torch.Size([64]).\n\tsize mismatch for blocks.2.ln2.weight: copying a param with shape torch.Size([384]) from checkpoint, the shape in current model is torch.Size([64]).\n\tsize mismatch for blocks.2.ln2.bias: copying a param with shape torch.Size([384]) from checkpoint, the shape in current model is torch.Size([64]).\n\tsize mismatch for blocks.3.sa.heads.0.key.weight: copying a param with shape torch.Size([96, 384]) from checkpoint, the shape in current model is torch.Size([16, 64]).\n\tsize mismatch for blocks.3.sa.heads.0.query.weight: copying a param with shape torch.Size([96, 384]) from checkpoint, the shape in current model is torch.Size([16, 64]).\n\tsize mismatch for blocks.3.sa.heads.0.value.weight: copying a param with shape torch.Size([96, 384]) from checkpoint, the shape in current model is torch.Size([16, 64]).\n\tsize mismatch for blocks.3.sa.heads.1.key.weight: copying a param with shape torch.Size([96, 384]) from checkpoint, the shape in current model is torch.Size([16, 64]).\n\tsize mismatch for blocks.3.sa.heads.1.query.weight: copying a param with shape torch.Size([96, 384]) from checkpoint, the shape in current model is torch.Size([16, 64]).\n\tsize mismatch for blocks.3.sa.heads.1.value.weight: copying a param with shape torch.Size([96, 384]) from checkpoint, the shape in current model is torch.Size([16, 64]).\n\tsize mismatch for blocks.3.sa.heads.2.key.weight: copying a param with shape torch.Size([96, 384]) from checkpoint, the shape in current model is torch.Size([16, 64]).\n\tsize mismatch for blocks.3.sa.heads.2.query.weight: copying a param with shape torch.Size([96, 384]) from checkpoint, the shape in current model is torch.Size([16, 64]).\n\tsize mismatch for blocks.3.sa.heads.2.value.weight: copying a param with shape torch.Size([96, 384]) from checkpoint, the shape in current model is torch.Size([16, 64]).\n\tsize mismatch for blocks.3.sa.heads.3.key.weight: copying a param with shape torch.Size([96, 384]) from checkpoint, the shape in current model is torch.Size([16, 64]).\n\tsize mismatch for blocks.3.sa.heads.3.query.weight: copying a param with shape torch.Size([96, 384]) from checkpoint, the shape in current model is torch.Size([16, 64]).\n\tsize mismatch for blocks.3.sa.heads.3.value.weight: copying a param with shape torch.Size([96, 384]) from checkpoint, the shape in current model is torch.Size([16, 64]).\n\tsize mismatch for blocks.3.sa.proj.weight: copying a param with shape torch.Size([384, 384]) from checkpoint, the shape in current model is torch.Size([64, 64]).\n\tsize mismatch for blocks.3.sa.proj.bias: copying a param with shape torch.Size([384]) from checkpoint, the shape in current model is torch.Size([64]).\n\tsize mismatch for blocks.3.ffwd.net.0.weight: copying a param with shape torch.Size([1152, 384]) from checkpoint, the shape in current model is torch.Size([192, 64]).\n\tsize mismatch for blocks.3.ffwd.net.0.bias: copying a param with shape torch.Size([1152]) from checkpoint, the shape in current model is torch.Size([192]).\n\tsize mismatch for blocks.3.ffwd.net.2.weight: copying a param with shape torch.Size([384, 1152]) from checkpoint, the shape in current model is torch.Size([64, 192]).\n\tsize mismatch for blocks.3.ffwd.net.2.bias: copying a param with shape torch.Size([384]) from checkpoint, the shape in current model is torch.Size([64]).\n\tsize mismatch for blocks.3.ln1.weight: copying a param with shape torch.Size([384]) from checkpoint, the shape in current model is torch.Size([64]).\n\tsize mismatch for blocks.3.ln1.bias: copying a param with shape torch.Size([384]) from checkpoint, the shape in current model is torch.Size([64]).\n\tsize mismatch for blocks.3.ln2.weight: copying a param with shape torch.Size([384]) from checkpoint, the shape in current model is torch.Size([64]).\n\tsize mismatch for blocks.3.ln2.bias: copying a param with shape torch.Size([384]) from checkpoint, the shape in current model is torch.Size([64]).\n\tsize mismatch for ln_f.weight: copying a param with shape torch.Size([384]) from checkpoint, the shape in current model is torch.Size([64]).\n\tsize mismatch for ln_f.bias: copying a param with shape torch.Size([384]) from checkpoint, the shape in current model is torch.Size([64]).\n\tsize mismatch for lm_head.weight: copying a param with shape torch.Size([65, 384]) from checkpoint, the shape in current model is torch.Size([65, 64])."
          ]
        }
      ],
      "source": [
        "import json\n",
        "import torch\n",
        "#MyModel =  BigramLanguageModel() # replace with the actual name of your model class\n",
        "\n",
        "# Load hyperparameters from JSON file\n",
        "with open(\"hyperparameters.json\", \"r\") as f:\n",
        "    hyperparameters = json.load(f)\n",
        "\n",
        "# hyperparameters\n",
        "batch_size = 64 # how many independent sequences will we process in parallel?\n",
        "block_size = 256 # what is the maximum context length for predictions?\n",
        "max_iters = 5000\n",
        "eval_interval = 100\n",
        "learning_rate = 4.673588482742393e-05\n",
        "device = 'cuda' if torch.cuda.is_available() else 'cpu'\n",
        "eval_iters = 200\n",
        "n_embd = 64\n",
        "n_head = 4\n",
        "n_layer = 4\n",
        "dropout =  0.08887636695128351\n",
        "\n",
        "\n",
        "\n",
        "# Initialize the model with the loaded hyperparameters\n",
        "model2 = BigramLanguageModel()\n",
        "\n",
        "# Load the model weights from the PyTorch file\n",
        "model2.load_state_dict(torch.load(\"model_weights.pth\"))\n",
        "\n",
        "# Set the model to evaluation mode\n",
        "model2.eval()\n",
        "m=model2.to(device)\n",
        "# generate from the model\n",
        "context = torch.zeros((1, 1), dtype=torch.long, device=device)\n",
        "print(decode(m.generate(context, max_new_tokens=2000)[0].tolist()))"
      ]
    },
    {
      "cell_type": "code",
      "execution_count": null,
      "metadata": {
        "colab": {
          "base_uri": "https://localhost:8080/",
          "height": 235
        },
        "id": "nDb_xv18J4ej",
        "outputId": "721f7a1c-03de-4218-f494-62755e540071"
      },
      "outputs": [
        {
          "ename": "NameError",
          "evalue": "ignored",
          "output_type": "error",
          "traceback": [
            "\u001b[0;31m---------------------------------------------------------------------------\u001b[0m",
            "\u001b[0;31mNameError\u001b[0m                                 Traceback (most recent call last)",
            "\u001b[0;32m<ipython-input-32-95a390dc5213>\u001b[0m in \u001b[0;36m<cell line: 2>\u001b[0;34m()\u001b[0m\n\u001b[1;32m      1\u001b[0m \u001b[0;31m# Load model weights\u001b[0m\u001b[0;34m\u001b[0m\u001b[0;34m\u001b[0m\u001b[0m\n\u001b[0;32m----> 2\u001b[0;31m \u001b[0mmodel_weights\u001b[0m \u001b[0;34m=\u001b[0m \u001b[0mload_state_dict\u001b[0m\u001b[0;34m(\u001b[0m\u001b[0mtorch\u001b[0m\u001b[0;34m.\u001b[0m\u001b[0mload\u001b[0m\u001b[0;34m(\u001b[0m\u001b[0;34m\"model_weights.pth\"\u001b[0m\u001b[0;34m)\u001b[0m\u001b[0;34m)\u001b[0m\u001b[0;34m\u001b[0m\u001b[0;34m\u001b[0m\u001b[0m\n\u001b[0m\u001b[1;32m      3\u001b[0m \u001b[0;34m\u001b[0m\u001b[0m\n\u001b[1;32m      4\u001b[0m \u001b[0;31m# Instantiate model\u001b[0m\u001b[0;34m\u001b[0m\u001b[0;34m\u001b[0m\u001b[0m\n\u001b[1;32m      5\u001b[0m model = MultiHeadAttention(num_heads=hyperparameters['n_head'],\n",
            "\u001b[0;31mNameError\u001b[0m: name 'load_state_dict' is not defined"
          ]
        }
      ],
      "source": [
        "# Load model weights\n",
        "model_weights = load_state_dict(torch.load(\"model_weights.pth\"))\n",
        "\n",
        "# Instantiate model\n",
        "model = MultiHeadAttention(num_heads=hyperparameters['n_head'],\n",
        "                           head_size=hyperparameters['n_embd']).to(device)\n",
        "model.load_state_dict(model_weights)\n",
        "\n",
        "model.eval()\n",
        "# generate from the model\n",
        "context = torch.zeros((1, 1), dtype=torch.long, device=device)\n",
        "print(decode(m.generate(context, max_new_tokens=2000)[0].tolist()))"
      ]
    }
  ],
  "metadata": {
    "accelerator": "GPU",
    "colab": {
      "provenance": []
    },
    "gpuClass": "premium",
    "kernelspec": {
      "display_name": "Python 3",
      "name": "python3"
    },
    "language_info": {
      "name": "python"
    }
  },
  "nbformat": 4,
  "nbformat_minor": 0
}